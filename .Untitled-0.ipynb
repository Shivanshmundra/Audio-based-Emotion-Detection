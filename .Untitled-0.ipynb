{
 "cells": [
  {
   "cell_type": "code",
   "execution_count": 1,
   "metadata": {},
   "outputs": [
    {
     "name": "stderr",
     "output_type": "stream",
     "text": [
      "Using TensorFlow backend.\n"
     ]
    },
    {
     "name": "stdout",
     "output_type": "stream",
     "text": [
      "WARNING:tensorflow:Variable *= will be deprecated. Use `var.assign(var * other)` if you want assignment to the variable value or `x = x * y` if you want a new python Tensor object.\n"
     ]
    }
   ],
   "source": [
    "from keras.models import load_model\n",
    "from sklearn.metrics import classification_report, confusion_matrix\n",
    "import matplotlib.pyplot as plt\n",
    "import numpy as np\n",
    "from keras.preprocessing.text import Tokenizer\n",
    "from keras.preprocessing.sequence import pad_sequences\n",
    "%config InlineBackend.figure_format = 'retina'\n",
    "import itertools, pickle\n",
    "MAX_SEQUENCE_LENGTH = 30\n",
    "model = load_model('checkpoint-0.910.h5')\n",
    "with open('tokenizer.pickle', 'rb') as handle:\n",
    "    tokenizer = pickle.load(handle)\n",
    "\n",
    "classes = [\"neutral\", \"happy\", \"sad\", \"hate\",\"anger\"]\n",
    "text = [\"I salute you for the bravery and sacrifice! A true hero indeed.\",\n",
    "        \"I am sorry but I trust HRW I damned sight more than the PAP and it's cronies! Off course the PAP will say that they (HRW) made things up...despite of the fact that SG is a dictator state!?\",\n",
    "        \"PAP are taking the piss again!\",\n",
    "        \"Thought he sold his kidney to buy it; Instead, he bought a kidney then bought the car Filthy rich This is why we need communism\",\n",
    "        \"Somebody needs to water Tharman's head, hair needs to be grown there\",\n",
    "        \"what a nuisance fk. a proper clean and flat footpath,,now obstructed by sharedbikes..! which idiotic MP allowed this to happen?\",\n",
    "        \"What baby bonus scheme ??? To grow up a kid in Singapore you think is easy now bo ??? Both parent need to work to grow up a kid until 21 , you think tats easy bo ??? Think la\"\n",
    "       ]"
   ]
  },
  {
   "cell_type": "code",
   "execution_count": 2,
   "metadata": {},
   "outputs": [
    {
     "name": "stdout",
     "output_type": "stream",
     "text": [
      "ARE YOU READY?yes\n",
      "yes\n",
      "I am sad \n",
      "Prediction:  5.308740213513374 % neutral \n",
      "\n",
      "\n",
      "Prediction:  1.9838381558656693 % happy \n",
      "\n",
      "\n",
      "Prediction:  91.50846004486084 % sad \n",
      "\n",
      "\n",
      "Prediction:  1.0548471473157406 % hate \n",
      "\n",
      "\n",
      "Prediction:  0.1441169180907309 % anger \n",
      "\n"
     ]
    }
   ],
   "source": [
    "import speech_recognition as sr\n",
    "x = input(\"ARE YOU READY?\")\n",
    "print(x)\n",
    "r = sr.Recognizer()\n",
    "mic = sr.Microphone()\n",
    "sr.Microphone.list_microphone_names()\n",
    "with mic as source:\n",
    "    r.adjust_for_ambient_noise(source)\n",
    "    audio = r.listen(source)\n",
    "text=[r.recognize_google(audio)]\n",
    "sequences_test = tokenizer.texts_to_sequences(text)\n",
    "data_int_t = pad_sequences(sequences_test, padding='pre', maxlen=(MAX_SEQUENCE_LENGTH-5))\n",
    "data_test = pad_sequences(data_int_t, padding='post', maxlen=(MAX_SEQUENCE_LENGTH))\n",
    "y_prob = model.predict(data_test)\n",
    "for n, prediction in enumerate(y_prob):\n",
    "    pred = y_prob.argmax(axis=-1)[n]\n",
    "    percent = y_prob[n][y_prob.argmax(axis=-1)[n]]\n",
    "    print(text[n],\"\\nPrediction: \",str(100*y_prob[n][0]),\"%\",classes[0],\"\\n\")\n",
    "    print(\"\\nPrediction: \",str(100*y_prob[n][1]),\"%\",classes[1],\"\\n\")\n",
    "    print(\"\\nPrediction: \",str(100*y_prob[n][2]),\"%\",classes[2],\"\\n\")\n",
    "    print(\"\\nPrediction: \",str(100*y_prob[n][3]),\"%\",classes[3],\"\\n\")\n",
    "    print(\"\\nPrediction: \",str(100*y_prob[n][4]),\"%\",classes[4],\"\\n\")"
   ]
  },
  {
   "cell_type": "code",
   "execution_count": 12,
   "metadata": {},
   "outputs": [
    {
     "name": "stdout",
     "output_type": "stream",
     "text": [
      "I want a competition today \n",
      "Prediction:  38.72793912887573 % neutral \n",
      "\n"
     ]
    }
   ],
   "source": [
    "sequences_test = tokenizer.texts_to_sequences(text)\n",
    "data_int_t = pad_sequences(sequences_test, padding='pre', maxlen=(MAX_SEQUENCE_LENGTH-5))\n",
    "data_test = pad_sequences(data_int_t, padding='post', maxlen=(MAX_SEQUENCE_LENGTH))\n",
    "y_prob = model.predict(data_test)\n",
    "for n, prediction in enumerate(y_prob):\n",
    "    pred = y_prob.argmax(axis=-1)[n]\n",
    "    percent = y_prob[n][y_prob.argmax(axis=-1)[n]]\n",
    "    print(text[n],\"\\nPrediction: \",str(100*percent),\"%\",classes[pred],\"\\n\")"
   ]
  },
  {
   "cell_type": "code",
   "execution_count": 9,
   "metadata": {},
   "outputs": [
    {
     "ename": "NameError",
     "evalue": "name 'Y_test' is not defined",
     "output_type": "error",
     "traceback": [
      "\u001b[0;31m---------------------------------------------------------------------------\u001b[0m",
      "\u001b[0;31mNameError\u001b[0m                                 Traceback (most recent call last)",
      "\u001b[0;32m<ipython-input-9-c22eded829f7>\u001b[0m in \u001b[0;36m<module>\u001b[0;34m()\u001b[0m\n\u001b[0;32m----> 1\u001b[0;31m \u001b[0mprint\u001b[0m\u001b[0;34m(\u001b[0m\u001b[0mclassification_report\u001b[0m\u001b[0;34m(\u001b[0m\u001b[0mY_test\u001b[0m\u001b[0;34m,\u001b[0m \u001b[0my_pred_class\u001b[0m\u001b[0;34m,\u001b[0m \u001b[0mtarget_names\u001b[0m\u001b[0;34m=\u001b[0m\u001b[0mclasses\u001b[0m\u001b[0;34m)\u001b[0m\u001b[0;34m)\u001b[0m\u001b[0;34m\u001b[0m\u001b[0;34m\u001b[0m\u001b[0m\n\u001b[0m",
      "\u001b[0;31mNameError\u001b[0m: name 'Y_test' is not defined"
     ]
    }
   ],
   "source": [
    "print(classification_report(Y_test, y_pred_class, target_names=classes))"
   ]
  },
  {
   "cell_type": "code",
   "execution_count": null,
   "metadata": {},
   "outputs": [],
   "source": [
    "def plot_confusion_matrix(cm, labels,\n",
    "                          normalize=True,\n",
    "                          title='Confusion Matrix (Validation Set)',\n",
    "                          cmap=plt.cm.Blues):\n",
    "    \"\"\"\n",
    "    This function prints and plots the confusion matrix.\n",
    "    Normalization can be applied by setting `normalize=True`.\n",
    "    \"\"\"\n",
    "    if normalize:\n",
    "        cm = cm.astype('float') / cm.sum(axis=1)[:, np.newaxis]\n",
    "        #print(\"Normalized confusion matrix\")\n",
    "    else:\n",
    "        #print('Confusion matrix, without normalization')\n",
    "        pass\n",
    "\n",
    "    #print(cm)\n",
    "\n",
    "    plt.imshow(cm, interpolation='nearest', cmap=cmap)\n",
    "    plt.title(title)\n",
    "    plt.colorbar()\n",
    "    tick_marks = np.arange(len(labels))\n",
    "    plt.xticks(tick_marks, labels, rotation=45)\n",
    "    plt.yticks(tick_marks, labels)\n",
    "\n",
    "    fmt = '.2f' if normalize else 'd'\n",
    "    thresh = cm.max() / 2.\n",
    "    for i, j in itertools.product(range(cm.shape[0]), range(cm.shape[1])):\n",
    "        plt.text(j, i, format(cm[i, j], fmt),\n",
    "                 horizontalalignment=\"center\",\n",
    "                 color=\"white\" if cm[i, j] > thresh else \"black\")\n",
    "\n",
    "    plt.tight_layout()\n",
    "    plt.ylabel('True label')\n",
    "    plt.xlabel('Predicted label')\n",
    "\n",
    "plt.figure(figsize=(20,10))\n",
    "plot_confusion_matrix(cnf_matrix, labels=classes)\n",
    "\n",
    "# precision = true_pos / (true_pos + false_pos)\n",
    "# recall = true_pos / (true_pos + false_neg)"
   ]
  }
 ],
 "metadata": {
  "kernelspec": {
   "display_name": "Python 3",
   "language": "python",
   "name": "python3"
  },
  "language_info": {
   "codemirror_mode": {
    "name": "ipython",
    "version": 3
   },
   "file_extension": ".py",
   "mimetype": "text/x-python",
   "name": "python",
   "nbconvert_exporter": "python",
   "pygments_lexer": "ipython3",
   "version": "3.6.8"
  }
 },
 "nbformat": 4,
 "nbformat_minor": 2
}
